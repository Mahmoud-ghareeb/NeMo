{
 "cells": [
  {
   "cell_type": "code",
   "execution_count": 1,
   "metadata": {},
   "outputs": [
    {
     "name": "stderr",
     "output_type": "stream",
     "text": [
      "/home/cybernet-adm/miniconda3/envs/nemo_kenlm/lib/python3.10/site-packages/torch/cuda/__init__.py:619: UserWarning: Can't initialize NVML\n",
      "  warnings.warn(\"Can't initialize NVML\")\n"
     ]
    }
   ],
   "source": [
    "import nemo.collections.asr as nemo_asr\n",
    "import pandas as pd"
   ]
  },
  {
   "cell_type": "code",
   "execution_count": 2,
   "metadata": {},
   "outputs": [
    {
     "data": {
      "text/plain": [
       "'2.0.0rc1'"
      ]
     },
     "execution_count": 2,
     "metadata": {},
     "output_type": "execute_result"
    }
   ],
   "source": [
    "nemo_asr.__version__"
   ]
  },
  {
   "cell_type": "code",
   "execution_count": 2,
   "metadata": {},
   "outputs": [
    {
     "name": "stderr",
     "output_type": "stream",
     "text": [
      "[NeMo W 2024-07-14 11:00:18 modelPT:165] If you intend to do training or fine-tuning, please call the ModelPT.setup_training_data() method and provide a valid configuration file to setup the train data loader.\n",
      "    Train config : \n",
      "    manifest_filepath: train_manifest_EGAR.json\n",
      "    sample_rate: 16000\n",
      "    labels:\n",
      "    - ' '\n",
      "    - ء\n",
      "    - آ\n",
      "    - أ\n",
      "    - ؤ\n",
      "    - إ\n",
      "    - ئ\n",
      "    - ا\n",
      "    - ب\n",
      "    - ة\n",
      "    - ت\n",
      "    - ث\n",
      "    - ج\n",
      "    - ح\n",
      "    - خ\n",
      "    - د\n",
      "    - ذ\n",
      "    - ر\n",
      "    - ز\n",
      "    - س\n",
      "    - ش\n",
      "    - ص\n",
      "    - ض\n",
      "    - ط\n",
      "    - ظ\n",
      "    - ع\n",
      "    - غ\n",
      "    - ف\n",
      "    - ق\n",
      "    - ك\n",
      "    - ل\n",
      "    - م\n",
      "    - ن\n",
      "    - ه\n",
      "    - و\n",
      "    - ى\n",
      "    - ي\n",
      "    - چ\n",
      "    - ڤ\n",
      "    batch_size: 32\n",
      "    shuffle: true\n",
      "    max_duration: 16.7\n",
      "    pin_memory: true\n",
      "    is_tarred: false\n",
      "    num_workers: 8\n",
      "    \n",
      "[NeMo W 2024-07-14 11:00:18 modelPT:172] If you intend to do validation, please call the ModelPT.setup_validation_data() or ModelPT.setup_multiple_validation_data() method and provide a valid configuration file to setup the validation data loader(s). \n",
      "    Validation config : \n",
      "    sample_rate: 16000\n",
      "    manifest_filepath: test_manifest_EGAR.json\n",
      "    labels:\n",
      "    - ' '\n",
      "    - ء\n",
      "    - آ\n",
      "    - أ\n",
      "    - ؤ\n",
      "    - إ\n",
      "    - ئ\n",
      "    - ا\n",
      "    - ب\n",
      "    - ة\n",
      "    - ت\n",
      "    - ث\n",
      "    - ج\n",
      "    - ح\n",
      "    - خ\n",
      "    - د\n",
      "    - ذ\n",
      "    - ر\n",
      "    - ز\n",
      "    - س\n",
      "    - ش\n",
      "    - ص\n",
      "    - ض\n",
      "    - ط\n",
      "    - ظ\n",
      "    - ع\n",
      "    - غ\n",
      "    - ف\n",
      "    - ق\n",
      "    - ك\n",
      "    - ل\n",
      "    - م\n",
      "    - ن\n",
      "    - ه\n",
      "    - و\n",
      "    - ى\n",
      "    - ي\n",
      "    - چ\n",
      "    - ڤ\n",
      "    batch_size: 32\n",
      "    shuffle: false\n",
      "    num_workers: 8\n",
      "    \n"
     ]
    },
    {
     "name": "stdout",
     "output_type": "stream",
     "text": [
      "[NeMo I 2024-07-14 11:00:18 features:289] PADDING: 16\n",
      "[NeMo I 2024-07-14 11:00:19 save_restore_connector:249] Model EncDecCTCModel was successfully restored from /home/cybernet-adm/quartznet_infer/checkpoint/QuartzNet-Model-EG.nemo.\n"
     ]
    }
   ],
   "source": [
    "ckpt = '/home/cybernet-adm/quartznet_infer/checkpoint/QuartzNet-Model-EG.nemo'\n",
    "model = nemo_asr.models.EncDecCTCModel.restore_from(ckpt)"
   ]
  },
  {
   "cell_type": "markdown",
   "metadata": {},
   "source": [
    "### Read your test data"
   ]
  },
  {
   "cell_type": "code",
   "execution_count": 26,
   "metadata": {},
   "outputs": [],
   "source": [
    "test_df = pd.read_excel('golden_wer_more_than_1_ar_2_iter.xlsx')"
   ]
  },
  {
   "cell_type": "markdown",
   "metadata": {},
   "source": [
    "### Create the df according to our standards"
   ]
  },
  {
   "cell_type": "code",
   "execution_count": 29,
   "metadata": {},
   "outputs": [],
   "source": [
    "df = pd.DataFrame(columns=['audio_filepath', 'inference', 'golden_transcription', 'transcriber\\'s name', 'lang', 'bad', 'not clear', 'name', 'operator or client'])"
   ]
  },
  {
   "cell_type": "code",
   "execution_count": 31,
   "metadata": {},
   "outputs": [],
   "source": [
    "df['audio_filepath'] = test_df['audio_filepath']"
   ]
  },
  {
   "cell_type": "code",
   "execution_count": 32,
   "metadata": {},
   "outputs": [
    {
     "data": {
      "text/html": [
       "<div>\n",
       "<style scoped>\n",
       "    .dataframe tbody tr th:only-of-type {\n",
       "        vertical-align: middle;\n",
       "    }\n",
       "\n",
       "    .dataframe tbody tr th {\n",
       "        vertical-align: top;\n",
       "    }\n",
       "\n",
       "    .dataframe thead th {\n",
       "        text-align: right;\n",
       "    }\n",
       "</style>\n",
       "<table border=\"1\" class=\"dataframe\">\n",
       "  <thead>\n",
       "    <tr style=\"text-align: right;\">\n",
       "      <th></th>\n",
       "      <th>audio_filepath</th>\n",
       "      <th>inference</th>\n",
       "      <th>golden_transcription</th>\n",
       "      <th>transcriber's name</th>\n",
       "      <th>lang</th>\n",
       "      <th>bad</th>\n",
       "      <th>not clear</th>\n",
       "      <th>name</th>\n",
       "      <th>operator or client</th>\n",
       "    </tr>\n",
       "  </thead>\n",
       "  <tbody>\n",
       "    <tr>\n",
       "      <th>0</th>\n",
       "      <td>/home/cybernet-adm/dataset_arb/pool_1_2_ARB/16...</td>\n",
       "      <td>NaN</td>\n",
       "      <td>NaN</td>\n",
       "      <td>NaN</td>\n",
       "      <td>NaN</td>\n",
       "      <td>NaN</td>\n",
       "      <td>NaN</td>\n",
       "      <td>NaN</td>\n",
       "      <td>NaN</td>\n",
       "    </tr>\n",
       "    <tr>\n",
       "      <th>1</th>\n",
       "      <td>/home/cybernet-adm/dataset_arb/pool_6_ARB/d389...</td>\n",
       "      <td>NaN</td>\n",
       "      <td>NaN</td>\n",
       "      <td>NaN</td>\n",
       "      <td>NaN</td>\n",
       "      <td>NaN</td>\n",
       "      <td>NaN</td>\n",
       "      <td>NaN</td>\n",
       "      <td>NaN</td>\n",
       "    </tr>\n",
       "    <tr>\n",
       "      <th>2</th>\n",
       "      <td>/home/cybernet-adm/dataset_arb/pool_6_ARB/ae49...</td>\n",
       "      <td>NaN</td>\n",
       "      <td>NaN</td>\n",
       "      <td>NaN</td>\n",
       "      <td>NaN</td>\n",
       "      <td>NaN</td>\n",
       "      <td>NaN</td>\n",
       "      <td>NaN</td>\n",
       "      <td>NaN</td>\n",
       "    </tr>\n",
       "    <tr>\n",
       "      <th>3</th>\n",
       "      <td>/home/cybernet-adm/dataset_arb/pool_6_ARB/ba60...</td>\n",
       "      <td>NaN</td>\n",
       "      <td>NaN</td>\n",
       "      <td>NaN</td>\n",
       "      <td>NaN</td>\n",
       "      <td>NaN</td>\n",
       "      <td>NaN</td>\n",
       "      <td>NaN</td>\n",
       "      <td>NaN</td>\n",
       "    </tr>\n",
       "    <tr>\n",
       "      <th>4</th>\n",
       "      <td>/home/cybernet-adm/dataset_arb/pool_6_ARB/a1d1...</td>\n",
       "      <td>NaN</td>\n",
       "      <td>NaN</td>\n",
       "      <td>NaN</td>\n",
       "      <td>NaN</td>\n",
       "      <td>NaN</td>\n",
       "      <td>NaN</td>\n",
       "      <td>NaN</td>\n",
       "      <td>NaN</td>\n",
       "    </tr>\n",
       "  </tbody>\n",
       "</table>\n",
       "</div>"
      ],
      "text/plain": [
       "                                      audio_filepath inference  \\\n",
       "0  /home/cybernet-adm/dataset_arb/pool_1_2_ARB/16...       NaN   \n",
       "1  /home/cybernet-adm/dataset_arb/pool_6_ARB/d389...       NaN   \n",
       "2  /home/cybernet-adm/dataset_arb/pool_6_ARB/ae49...       NaN   \n",
       "3  /home/cybernet-adm/dataset_arb/pool_6_ARB/ba60...       NaN   \n",
       "4  /home/cybernet-adm/dataset_arb/pool_6_ARB/a1d1...       NaN   \n",
       "\n",
       "  golden_transcription transcriber's name lang  bad not clear name  \\\n",
       "0                  NaN                NaN  NaN  NaN       NaN  NaN   \n",
       "1                  NaN                NaN  NaN  NaN       NaN  NaN   \n",
       "2                  NaN                NaN  NaN  NaN       NaN  NaN   \n",
       "3                  NaN                NaN  NaN  NaN       NaN  NaN   \n",
       "4                  NaN                NaN  NaN  NaN       NaN  NaN   \n",
       "\n",
       "  operator or client  \n",
       "0                NaN  \n",
       "1                NaN  \n",
       "2                NaN  \n",
       "3                NaN  \n",
       "4                NaN  "
      ]
     },
     "execution_count": 32,
     "metadata": {},
     "output_type": "execute_result"
    }
   ],
   "source": [
    "df.head()"
   ]
  },
  {
   "cell_type": "code",
   "execution_count": null,
   "metadata": {},
   "outputs": [],
   "source": [
    "import os\n",
    "\n",
    "#LM binary \n",
    "#For more info on how to create it Read the README FILE @ https://github.com/Mahmoud-ghareeb/NeMo\n",
    "\n",
    "LM = '/home/cybernet-adm/quartznet_infer/EG_AR_VO.binary'\n",
    "\n",
    "\n",
    "beam_search_lm = nemo_asr.modules.BeamSearchDecoderWithLM(\n",
    "    vocab=list(model.cfg.decoder.vocabulary),\n",
    "    beam_width=13,\n",
    "    alpha=1.0, beta=1.5,\n",
    "    lm_path=LM,\n",
    "    num_cpus=max(os.cpu_count(), 1),\n",
    "    input_tensor=False)"
   ]
  },
  {
   "cell_type": "code",
   "execution_count": 34,
   "metadata": {},
   "outputs": [],
   "source": [
    "import numpy as np\n",
    "from torch.nn import functional as f\n",
    "\n",
    "\n",
    "def transcribe(x):\n",
    "    \"\"\"Get inference with just the model\n",
    "    inputs: x => dataframe row\n",
    "    outputs: the transcription\n",
    "    \"\"\"\n",
    "    return model.transcribe([f'{x[\"audio_filepath\"]}'])[0]\n",
    "\n",
    "\n",
    "def transcribe_with_kenlm(x):\n",
    "    \"\"\"Get inference with your kenlm model\n",
    "    inputs: x => dataframe row\n",
    "    outputs: the transcription\n",
    "    \"\"\"\n",
    "    Logits_hyps = model.transcribe(\n",
    "                [f'{x[\"audio_filepath\"]}'], return_hypotheses=True\n",
    "            )\n",
    "            \n",
    "    logits = Logits_hyps[0].alignments\n",
    "    probs = f.softmax(logits, dim=1).unsqueeze(0)\n",
    "    result = beam_search_lm.forward(log_probs = probs, log_probs_length=None)\n",
    "      \n",
    "    return result[0][0][1]"
   ]
  },
  {
   "cell_type": "code",
   "execution_count": 35,
   "metadata": {},
   "outputs": [],
   "source": [
    "with_lm = df.copy()\n",
    "without_lm = df.copy()"
   ]
  },
  {
   "cell_type": "code",
   "execution_count": 36,
   "metadata": {},
   "outputs": [
    {
     "name": "stderr",
     "output_type": "stream",
     "text": [
      "[NeMo W 2024-07-10 13:58:03 audio_to_text_dataset:62] `labels` is explicitly provided to the data loader, and is different from the `labels` provided at the model level config.\n",
      "    If this is incorrect, please set the dataloader's `labels` to None.\n",
      "Transcribing: 100%|██████████| 1/1 [00:00<00:00, 15.98it/s]"
     ]
    },
    {
     "name": "stderr",
     "output_type": "stream",
     "text": [
      "\n",
      "[NeMo W 2024-07-10 13:58:03 audio_to_text_dataset:62] `labels` is explicitly provided to the data loader, and is different from the `labels` provided at the model level config.\n",
      "    If this is incorrect, please set the dataloader's `labels` to None.\n",
      "Transcribing: 100%|██████████| 1/1 [00:00<00:00, 16.59it/s]\n",
      "[NeMo W 2024-07-10 13:58:03 audio_to_text_dataset:62] `labels` is explicitly provided to the data loader, and is different from the `labels` provided at the model level config.\n",
      "    If this is incorrect, please set the dataloader's `labels` to None.\n",
      "Transcribing: 100%|██████████| 1/1 [00:00<00:00, 16.39it/s]\n",
      "[NeMo W 2024-07-10 13:58:04 audio_to_text_dataset:62] `labels` is explicitly provided to the data loader, and is different from the `labels` provided at the model level config.\n",
      "    If this is incorrect, please set the dataloader's `labels` to None.\n",
      "Transcribing: 100%|██████████| 1/1 [00:00<00:00, 16.47it/s]\n",
      "[NeMo W 2024-07-10 13:58:04 audio_to_text_dataset:62] `labels` is explicitly provided to the data loader, and is different from the `labels` provided at the model level config.\n",
      "    If this is incorrect, please set the dataloader's `labels` to None.\n",
      "Transcribing: 100%|██████████| 1/1 [00:00<00:00, 18.24it/s]\n",
      "[NeMo W 2024-07-10 13:58:04 audio_to_text_dataset:62] `labels` is explicitly provided to the data loader, and is different from the `labels` provided at the model level config.\n",
      "    If this is incorrect, please set the dataloader's `labels` to None.\n",
      "Transcribing: 100%|██████████| 1/1 [00:00<00:00, 18.11it/s]\n",
      "[NeMo W 2024-07-10 13:58:04 audio_to_text_dataset:62] `labels` is explicitly provided to the data loader, and is different from the `labels` provided at the model level config.\n",
      "    If this is incorrect, please set the dataloader's `labels` to None.\n",
      "Transcribing: 100%|██████████| 1/1 [00:00<00:00, 17.66it/s]\n",
      "[NeMo W 2024-07-10 13:58:04 audio_to_text_dataset:62] `labels` is explicitly provided to the data loader, and is different from the `labels` provided at the model level config.\n",
      "    If this is incorrect, please set the dataloader's `labels` to None.\n",
      "Transcribing: 100%|██████████| 1/1 [00:00<00:00, 18.26it/s]\n",
      "[NeMo W 2024-07-10 13:58:04 audio_to_text_dataset:62] `labels` is explicitly provided to the data loader, and is different from the `labels` provided at the model level config.\n",
      "    If this is incorrect, please set the dataloader's `labels` to None.\n",
      "Transcribing: 100%|██████████| 1/1 [00:00<00:00, 18.45it/s]\n",
      "[NeMo W 2024-07-10 13:58:04 audio_to_text_dataset:62] `labels` is explicitly provided to the data loader, and is different from the `labels` provided at the model level config.\n",
      "    If this is incorrect, please set the dataloader's `labels` to None.\n",
      "Transcribing: 100%|██████████| 1/1 [00:00<00:00, 18.21it/s]\n",
      "[NeMo W 2024-07-10 13:58:04 audio_to_text_dataset:62] `labels` is explicitly provided to the data loader, and is different from the `labels` provided at the model level config.\n",
      "    If this is incorrect, please set the dataloader's `labels` to None.\n",
      "Transcribing: 100%|██████████| 1/1 [00:00<00:00, 17.72it/s]\n",
      "[NeMo W 2024-07-10 13:58:04 audio_to_text_dataset:62] `labels` is explicitly provided to the data loader, and is different from the `labels` provided at the model level config.\n",
      "    If this is incorrect, please set the dataloader's `labels` to None.\n",
      "Transcribing: 100%|██████████| 1/1 [00:00<00:00, 18.64it/s]\n",
      "[NeMo W 2024-07-10 13:58:04 audio_to_text_dataset:62] `labels` is explicitly provided to the data loader, and is different from the `labels` provided at the model level config.\n",
      "    If this is incorrect, please set the dataloader's `labels` to None.\n",
      "Transcribing: 100%|██████████| 1/1 [00:00<00:00, 17.94it/s]\n",
      "[NeMo W 2024-07-10 13:58:04 audio_to_text_dataset:62] `labels` is explicitly provided to the data loader, and is different from the `labels` provided at the model level config.\n",
      "    If this is incorrect, please set the dataloader's `labels` to None.\n",
      "Transcribing: 100%|██████████| 1/1 [00:00<00:00, 17.36it/s]\n",
      "[NeMo W 2024-07-10 13:58:05 audio_to_text_dataset:62] `labels` is explicitly provided to the data loader, and is different from the `labels` provided at the model level config.\n",
      "    If this is incorrect, please set the dataloader's `labels` to None.\n",
      "Transcribing: 100%|██████████| 1/1 [00:00<00:00, 18.31it/s]\n",
      "[NeMo W 2024-07-10 13:58:05 audio_to_text_dataset:62] `labels` is explicitly provided to the data loader, and is different from the `labels` provided at the model level config.\n",
      "    If this is incorrect, please set the dataloader's `labels` to None.\n",
      "Transcribing: 100%|██████████| 1/1 [00:00<00:00, 16.93it/s]\n",
      "[NeMo W 2024-07-10 13:58:05 audio_to_text_dataset:62] `labels` is explicitly provided to the data loader, and is different from the `labels` provided at the model level config.\n",
      "    If this is incorrect, please set the dataloader's `labels` to None.\n",
      "Transcribing: 100%|██████████| 1/1 [00:00<00:00, 16.67it/s]\n",
      "[NeMo W 2024-07-10 13:58:05 audio_to_text_dataset:62] `labels` is explicitly provided to the data loader, and is different from the `labels` provided at the model level config.\n",
      "    If this is incorrect, please set the dataloader's `labels` to None.\n",
      "Transcribing: 100%|██████████| 1/1 [00:00<00:00, 17.73it/s]\n",
      "[NeMo W 2024-07-10 13:58:05 audio_to_text_dataset:62] `labels` is explicitly provided to the data loader, and is different from the `labels` provided at the model level config.\n",
      "    If this is incorrect, please set the dataloader's `labels` to None.\n",
      "Transcribing: 100%|██████████| 1/1 [00:00<00:00, 17.06it/s]\n",
      "[NeMo W 2024-07-10 13:58:05 audio_to_text_dataset:62] `labels` is explicitly provided to the data loader, and is different from the `labels` provided at the model level config.\n",
      "    If this is incorrect, please set the dataloader's `labels` to None.\n",
      "Transcribing: 100%|██████████| 1/1 [00:00<00:00, 17.19it/s]\n",
      "[NeMo W 2024-07-10 13:58:05 audio_to_text_dataset:62] `labels` is explicitly provided to the data loader, and is different from the `labels` provided at the model level config.\n",
      "    If this is incorrect, please set the dataloader's `labels` to None.\n",
      "Transcribing: 100%|██████████| 1/1 [00:00<00:00, 16.77it/s]\n",
      "[NeMo W 2024-07-10 13:58:05 audio_to_text_dataset:62] `labels` is explicitly provided to the data loader, and is different from the `labels` provided at the model level config.\n",
      "    If this is incorrect, please set the dataloader's `labels` to None.\n",
      "Transcribing: 100%|██████████| 1/1 [00:00<00:00, 16.46it/s]\n",
      "[NeMo W 2024-07-10 13:58:05 audio_to_text_dataset:62] `labels` is explicitly provided to the data loader, and is different from the `labels` provided at the model level config.\n",
      "    If this is incorrect, please set the dataloader's `labels` to None.\n",
      "Transcribing: 100%|██████████| 1/1 [00:00<00:00, 17.59it/s]\n",
      "[NeMo W 2024-07-10 13:58:05 audio_to_text_dataset:62] `labels` is explicitly provided to the data loader, and is different from the `labels` provided at the model level config.\n",
      "    If this is incorrect, please set the dataloader's `labels` to None.\n",
      "Transcribing: 100%|██████████| 1/1 [00:00<00:00, 17.35it/s]\n",
      "[NeMo W 2024-07-10 13:58:06 audio_to_text_dataset:62] `labels` is explicitly provided to the data loader, and is different from the `labels` provided at the model level config.\n",
      "    If this is incorrect, please set the dataloader's `labels` to None.\n",
      "Transcribing: 100%|██████████| 1/1 [00:00<00:00, 18.66it/s]\n",
      "[NeMo W 2024-07-10 13:58:06 audio_to_text_dataset:62] `labels` is explicitly provided to the data loader, and is different from the `labels` provided at the model level config.\n",
      "    If this is incorrect, please set the dataloader's `labels` to None.\n",
      "Transcribing: 100%|██████████| 1/1 [00:00<00:00, 19.88it/s]\n",
      "[NeMo W 2024-07-10 13:58:06 audio_to_text_dataset:62] `labels` is explicitly provided to the data loader, and is different from the `labels` provided at the model level config.\n",
      "    If this is incorrect, please set the dataloader's `labels` to None.\n",
      "Transcribing: 100%|██████████| 1/1 [00:00<00:00, 19.25it/s]\n",
      "[NeMo W 2024-07-10 13:58:06 audio_to_text_dataset:62] `labels` is explicitly provided to the data loader, and is different from the `labels` provided at the model level config.\n",
      "    If this is incorrect, please set the dataloader's `labels` to None.\n",
      "Transcribing: 100%|██████████| 1/1 [00:00<00:00, 19.77it/s]\n",
      "[NeMo W 2024-07-10 13:58:06 audio_to_text_dataset:62] `labels` is explicitly provided to the data loader, and is different from the `labels` provided at the model level config.\n",
      "    If this is incorrect, please set the dataloader's `labels` to None.\n",
      "Transcribing: 100%|██████████| 1/1 [00:00<00:00, 19.06it/s]\n",
      "[NeMo W 2024-07-10 13:58:06 audio_to_text_dataset:62] `labels` is explicitly provided to the data loader, and is different from the `labels` provided at the model level config.\n",
      "    If this is incorrect, please set the dataloader's `labels` to None.\n",
      "Transcribing: 100%|██████████| 1/1 [00:00<00:00, 19.67it/s]\n",
      "[NeMo W 2024-07-10 13:58:06 audio_to_text_dataset:62] `labels` is explicitly provided to the data loader, and is different from the `labels` provided at the model level config.\n",
      "    If this is incorrect, please set the dataloader's `labels` to None.\n",
      "Transcribing: 100%|██████████| 1/1 [00:00<00:00, 19.06it/s]\n",
      "[NeMo W 2024-07-10 13:58:06 audio_to_text_dataset:62] `labels` is explicitly provided to the data loader, and is different from the `labels` provided at the model level config.\n",
      "    If this is incorrect, please set the dataloader's `labels` to None.\n",
      "Transcribing: 100%|██████████| 1/1 [00:00<00:00, 19.49it/s]\n",
      "[NeMo W 2024-07-10 13:58:06 audio_to_text_dataset:62] `labels` is explicitly provided to the data loader, and is different from the `labels` provided at the model level config.\n",
      "    If this is incorrect, please set the dataloader's `labels` to None.\n",
      "Transcribing: 100%|██████████| 1/1 [00:00<00:00, 19.66it/s]\n",
      "[NeMo W 2024-07-10 13:58:06 audio_to_text_dataset:62] `labels` is explicitly provided to the data loader, and is different from the `labels` provided at the model level config.\n",
      "    If this is incorrect, please set the dataloader's `labels` to None.\n",
      "Transcribing: 100%|██████████| 1/1 [00:00<00:00, 19.53it/s]\n",
      "[NeMo W 2024-07-10 13:58:06 audio_to_text_dataset:62] `labels` is explicitly provided to the data loader, and is different from the `labels` provided at the model level config.\n",
      "    If this is incorrect, please set the dataloader's `labels` to None.\n",
      "Transcribing: 100%|██████████| 1/1 [00:00<00:00, 19.57it/s]\n",
      "[NeMo W 2024-07-10 13:58:06 audio_to_text_dataset:62] `labels` is explicitly provided to the data loader, and is different from the `labels` provided at the model level config.\n",
      "    If this is incorrect, please set the dataloader's `labels` to None.\n",
      "Transcribing: 100%|██████████| 1/1 [00:00<00:00, 19.85it/s]\n",
      "[NeMo W 2024-07-10 13:58:07 audio_to_text_dataset:62] `labels` is explicitly provided to the data loader, and is different from the `labels` provided at the model level config.\n",
      "    If this is incorrect, please set the dataloader's `labels` to None.\n",
      "Transcribing: 100%|██████████| 1/1 [00:00<00:00, 19.82it/s]\n",
      "[NeMo W 2024-07-10 13:58:07 audio_to_text_dataset:62] `labels` is explicitly provided to the data loader, and is different from the `labels` provided at the model level config.\n",
      "    If this is incorrect, please set the dataloader's `labels` to None.\n",
      "Transcribing: 100%|██████████| 1/1 [00:00<00:00, 19.10it/s]\n",
      "[NeMo W 2024-07-10 13:58:07 audio_to_text_dataset:62] `labels` is explicitly provided to the data loader, and is different from the `labels` provided at the model level config.\n",
      "    If this is incorrect, please set the dataloader's `labels` to None.\n",
      "Transcribing: 100%|██████████| 1/1 [00:00<00:00, 19.68it/s]\n",
      "[NeMo W 2024-07-10 13:58:07 audio_to_text_dataset:62] `labels` is explicitly provided to the data loader, and is different from the `labels` provided at the model level config.\n",
      "    If this is incorrect, please set the dataloader's `labels` to None.\n",
      "Transcribing: 100%|██████████| 1/1 [00:00<00:00, 19.69it/s]\n",
      "[NeMo W 2024-07-10 13:58:07 audio_to_text_dataset:62] `labels` is explicitly provided to the data loader, and is different from the `labels` provided at the model level config.\n",
      "    If this is incorrect, please set the dataloader's `labels` to None.\n",
      "Transcribing: 100%|██████████| 1/1 [00:00<00:00, 19.46it/s]\n",
      "[NeMo W 2024-07-10 13:58:07 audio_to_text_dataset:62] `labels` is explicitly provided to the data loader, and is different from the `labels` provided at the model level config.\n",
      "    If this is incorrect, please set the dataloader's `labels` to None.\n",
      "Transcribing: 100%|██████████| 1/1 [00:00<00:00, 20.24it/s]\n",
      "[NeMo W 2024-07-10 13:58:07 audio_to_text_dataset:62] `labels` is explicitly provided to the data loader, and is different from the `labels` provided at the model level config.\n",
      "    If this is incorrect, please set the dataloader's `labels` to None.\n",
      "Transcribing: 100%|██████████| 1/1 [00:00<00:00, 19.53it/s]\n",
      "[NeMo W 2024-07-10 13:58:07 audio_to_text_dataset:62] `labels` is explicitly provided to the data loader, and is different from the `labels` provided at the model level config.\n",
      "    If this is incorrect, please set the dataloader's `labels` to None.\n",
      "Transcribing: 100%|██████████| 1/1 [00:00<00:00, 20.14it/s]\n",
      "[NeMo W 2024-07-10 13:58:07 audio_to_text_dataset:62] `labels` is explicitly provided to the data loader, and is different from the `labels` provided at the model level config.\n",
      "    If this is incorrect, please set the dataloader's `labels` to None.\n",
      "Transcribing: 100%|██████████| 1/1 [00:00<00:00, 19.26it/s]\n",
      "[NeMo W 2024-07-10 13:58:07 audio_to_text_dataset:62] `labels` is explicitly provided to the data loader, and is different from the `labels` provided at the model level config.\n",
      "    If this is incorrect, please set the dataloader's `labels` to None.\n",
      "Transcribing: 100%|██████████| 1/1 [00:00<00:00, 19.80it/s]\n",
      "[NeMo W 2024-07-10 13:58:07 audio_to_text_dataset:62] `labels` is explicitly provided to the data loader, and is different from the `labels` provided at the model level config.\n",
      "    If this is incorrect, please set the dataloader's `labels` to None.\n",
      "Transcribing: 100%|██████████| 1/1 [00:00<00:00, 19.30it/s]\n",
      "[NeMo W 2024-07-10 13:58:07 audio_to_text_dataset:62] `labels` is explicitly provided to the data loader, and is different from the `labels` provided at the model level config.\n",
      "    If this is incorrect, please set the dataloader's `labels` to None.\n",
      "Transcribing: 100%|██████████| 1/1 [00:00<00:00, 19.66it/s]\n"
     ]
    }
   ],
   "source": [
    "with_lm['inference'] = with_lm.apply(transcribe_with_kenlm, axis=1)\n",
    "without_lm['inference'] = without_lm.apply(transcribe, axis=1)"
   ]
  },
  {
   "cell_type": "code",
   "execution_count": 38,
   "metadata": {},
   "outputs": [
    {
     "data": {
      "text/html": [
       "<div>\n",
       "<style scoped>\n",
       "    .dataframe tbody tr th:only-of-type {\n",
       "        vertical-align: middle;\n",
       "    }\n",
       "\n",
       "    .dataframe tbody tr th {\n",
       "        vertical-align: top;\n",
       "    }\n",
       "\n",
       "    .dataframe thead th {\n",
       "        text-align: right;\n",
       "    }\n",
       "</style>\n",
       "<table border=\"1\" class=\"dataframe\">\n",
       "  <thead>\n",
       "    <tr style=\"text-align: right;\">\n",
       "      <th></th>\n",
       "      <th>audio_filepath</th>\n",
       "      <th>inference</th>\n",
       "      <th>golden_transcription</th>\n",
       "      <th>transcriber's name</th>\n",
       "      <th>lang</th>\n",
       "      <th>bad</th>\n",
       "      <th>not clear</th>\n",
       "      <th>name</th>\n",
       "      <th>operator or client</th>\n",
       "    </tr>\n",
       "  </thead>\n",
       "  <tbody>\n",
       "    <tr>\n",
       "      <th>0</th>\n",
       "      <td>/home/cybernet-adm/dataset_arb/pool_1_2_ARB/16...</td>\n",
       "      <td>شارع الجمهوريه</td>\n",
       "      <td>NaN</td>\n",
       "      <td>NaN</td>\n",
       "      <td>NaN</td>\n",
       "      <td>NaN</td>\n",
       "      <td>NaN</td>\n",
       "      <td>NaN</td>\n",
       "      <td>NaN</td>\n",
       "    </tr>\n",
       "  </tbody>\n",
       "</table>\n",
       "</div>"
      ],
      "text/plain": [
       "                                      audio_filepath       inference  \\\n",
       "0  /home/cybernet-adm/dataset_arb/pool_1_2_ARB/16...  شارع الجمهوريه   \n",
       "\n",
       "  golden_transcription transcriber's name lang  bad not clear name  \\\n",
       "0                  NaN                NaN  NaN  NaN       NaN  NaN   \n",
       "\n",
       "  operator or client  \n",
       "0                NaN  "
      ]
     },
     "execution_count": 38,
     "metadata": {},
     "output_type": "execute_result"
    }
   ],
   "source": [
    "with_lm.head(1)"
   ]
  },
  {
   "cell_type": "code",
   "execution_count": 17,
   "metadata": {},
   "outputs": [
    {
     "data": {
      "text/plain": [
       "Index(['id', 'audio_filepath', 'transcriber_transcription', 'text',\n",
       "       'robot_transcription', 'pool', 'duration', 'lang', 'wer', 'length',\n",
       "       'check_robot', 'check_transcribers', 'check_golden', 'match_with_robot',\n",
       "       'status', 'golden_status', 'transcriber', 'superviser', 'sex',\n",
       "       'timestamp_create', 'timestamp_transcribed', 'comments', 'g2_check'],\n",
       "      dtype='object')"
      ]
     },
     "execution_count": 17,
     "metadata": {},
     "output_type": "execute_result"
    }
   ],
   "source": [
    "test_df.columns"
   ]
  },
  {
   "cell_type": "code",
   "execution_count": 39,
   "metadata": {},
   "outputs": [],
   "source": [
    "with_lm['golden_transcription'] = test_df['golden_transcription']\n",
    "with_lm['lang'] = test_df['lang']\n",
    "\n",
    "without_lm['golden_transcription'] = test_df['golden_transcription']\n",
    "without_lm['lang'] = test_df['lang']"
   ]
  },
  {
   "cell_type": "markdown",
   "metadata": {},
   "source": [
    "### caluclate the WER"
   ]
  },
  {
   "cell_type": "code",
   "execution_count": 40,
   "metadata": {},
   "outputs": [],
   "source": [
    "import Levenshtein\n",
    "\n",
    "def calcWer(s1, s2):\n",
    "    b = set(s1.split() + s2.split())\n",
    "    word2char = dict(zip(b, range(len(b))))\n",
    "    w1 = [chr(word2char[w]) for w in s1.split()]\n",
    "    w2 = [chr(word2char[w]) for w in s2.split()]\n",
    "    return Levenshtein.distance(''.join(w1), ''.join(w2)) / len(''.join(w2))"
   ]
  },
  {
   "cell_type": "code",
   "execution_count": 41,
   "metadata": {},
   "outputs": [],
   "source": [
    "with_lm['WER'] = with_lm.apply(lambda x: calcWer(x['inference'], x['golden_transcription']), axis=1)\n",
    "without_lm['WER'] = without_lm.apply(lambda x: calcWer(x['inference'], x['golden_transcription']), axis=1)"
   ]
  },
  {
   "cell_type": "code",
   "execution_count": 42,
   "metadata": {},
   "outputs": [],
   "source": [
    "with_lm.to_excel('wer_more_than_1_2_with_lm.xlsx', index=False)\n",
    "without_lm.to_excel('wer_more_than_1_2_without_lm.xlsx', index=False)"
   ]
  },
  {
   "cell_type": "code",
   "execution_count": null,
   "metadata": {},
   "outputs": [],
   "source": []
  }
 ],
 "metadata": {
  "kernelspec": {
   "display_name": "nemo",
   "language": "python",
   "name": "python3"
  },
  "language_info": {
   "codemirror_mode": {
    "name": "ipython",
    "version": 3
   },
   "file_extension": ".py",
   "mimetype": "text/x-python",
   "name": "python",
   "nbconvert_exporter": "python",
   "pygments_lexer": "ipython3",
   "version": "3.10.14"
  }
 },
 "nbformat": 4,
 "nbformat_minor": 2
}
